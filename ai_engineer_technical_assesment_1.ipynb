{
 "cells": [
  {
   "cell_type": "markdown",
   "metadata": {},
   "source": [
    "# AI Engineer Technical Assessment\n",
    "\n",
    "## Overview\n",
    "Build an AI-powered solution for sentiment analysis of movie reviews that leverages the existing dataset to improve accuracy. This assessment is designed to be completed in 2-3 hours, we do NOT expect very detailed answers or long explanations.\n",
    "\n",
    "## Notes\n",
    "- AI assistance is allowed and, in fact, encouraged. caveats are:\n",
    "    - Concise explanations and simple code are preferred\n",
    "    - Solutions that use newer information and go beyond LLMs cuttof date are valuable.\n",
    "    - You must be able to explain the code you write here\n",
    "\n",
    "- Look up any information you need, copy and paste code is allowed.\n",
    "- Setup the environment as needed. You can use your local environment, colab, or any other environment of your preferenc.\n",
    "- Focus on working solutions, leave iteration and improvements if you have extra time.\n",
    "\n",
    "## Setup\n",
    "The following cells will download and prepare the IMDB dataset. "
   ]
  },
  {
   "cell_type": "code",
   "execution_count": 3,
   "metadata": {},
   "outputs": [
    {
     "name": "stdout",
     "output_type": "stream",
     "text": [
      "Training samples: 5000\n",
      "Test samples: 10\n",
      "\n",
      "Sample review:\n",
      "Text: Dumb is as dumb does, in this thoroughly uninteresting, supposed black comedy. Essentially what starts out as Chris Klein trying to maintain a low profile, eventually morphs into an uninspired version...\n",
      "Sentiment: Negative\n"
     ]
    }
   ],
   "source": [
    "import pandas as pd\n",
    "import numpy as np\n",
    "from datasets import load_dataset\n",
    "\n",
    "# Load IMDB dataset\n",
    "dataset = load_dataset(\"imdb\")\n",
    "train_df = pd.DataFrame(dataset['train'])\n",
    "test_df = pd.DataFrame(dataset['test'])\n",
    "\n",
    "# Sample subset for quicker development\n",
    "train_df = train_df.sample(n=5000, random_state=42)\n",
    "test_df = test_df.sample(n=10, random_state=42)\n",
    "\n",
    "print(f\"Training samples: {len(train_df)}\")\n",
    "print(f\"Test samples: {len(test_df)}\")\n",
    "\n",
    "# Display sample data\n",
    "print(\"\\nSample review:\")\n",
    "sample = train_df.iloc[0]\n",
    "print(f\"Text: {sample['text'][:200]}...\")\n",
    "print(f\"Sentiment: {'Positive' if sample['label'] == 1 else 'Negative'}\")"
   ]
  },
  {
   "cell_type": "code",
   "execution_count": 4,
   "metadata": {},
   "outputs": [
    {
     "data": {
      "text/html": [
       "<div>\n",
       "<style scoped>\n",
       "    .dataframe tbody tr th:only-of-type {\n",
       "        vertical-align: middle;\n",
       "    }\n",
       "\n",
       "    .dataframe tbody tr th {\n",
       "        vertical-align: top;\n",
       "    }\n",
       "\n",
       "    .dataframe thead th {\n",
       "        text-align: right;\n",
       "    }\n",
       "</style>\n",
       "<table border=\"1\" class=\"dataframe\">\n",
       "  <thead>\n",
       "    <tr style=\"text-align: right;\">\n",
       "      <th></th>\n",
       "      <th>text</th>\n",
       "      <th>label</th>\n",
       "    </tr>\n",
       "  </thead>\n",
       "  <tbody>\n",
       "    <tr>\n",
       "      <th>6868</th>\n",
       "      <td>Dumb is as dumb does, in this thoroughly unint...</td>\n",
       "      <td>0</td>\n",
       "    </tr>\n",
       "    <tr>\n",
       "      <th>24016</th>\n",
       "      <td>I dug out from my garage some old musicals and...</td>\n",
       "      <td>1</td>\n",
       "    </tr>\n",
       "    <tr>\n",
       "      <th>9668</th>\n",
       "      <td>After watching this movie I was honestly disap...</td>\n",
       "      <td>0</td>\n",
       "    </tr>\n",
       "    <tr>\n",
       "      <th>13640</th>\n",
       "      <td>This movie was nominated for best picture but ...</td>\n",
       "      <td>1</td>\n",
       "    </tr>\n",
       "    <tr>\n",
       "      <th>14018</th>\n",
       "      <td>Just like Al Gore shook us up with his painful...</td>\n",
       "      <td>1</td>\n",
       "    </tr>\n",
       "  </tbody>\n",
       "</table>\n",
       "</div>"
      ],
      "text/plain": [
       "                                                    text  label\n",
       "6868   Dumb is as dumb does, in this thoroughly unint...      0\n",
       "24016  I dug out from my garage some old musicals and...      1\n",
       "9668   After watching this movie I was honestly disap...      0\n",
       "13640  This movie was nominated for best picture but ...      1\n",
       "14018  Just like Al Gore shook us up with his painful...      1"
      ]
     },
     "execution_count": 4,
     "metadata": {},
     "output_type": "execute_result"
    }
   ],
   "source": [
    "train_df.head()"
   ]
  },
  {
   "cell_type": "markdown",
   "metadata": {},
   "source": [
    "## Task 1: Model Implementation\n",
    "Implement a solution that analyzes sentiment in movie reviews. This part is explicitly open-ended: Explore ways to leverage the example dataset to enhance predictions. You can consider a pre-trained language model that can understand and generate text, external API's, RAG systems etc. \n",
    "Feel free to use any library or tool you are comfortable with."
   ]
  },
  {
   "cell_type": "code",
   "execution_count": 5,
   "metadata": {},
   "outputs": [],
   "source": [
    "# Your implementation here\n",
    "# Feel free to create additional cells as needed"
   ]
  },
  {
   "cell_type": "code",
   "execution_count": null,
   "metadata": {},
   "outputs": [],
   "source": []
  },
  {
   "cell_type": "markdown",
   "metadata": {},
   "source": [
    "## Task 2: API Implementation\n",
    "Create a simple API using FastAPI that serves your solution. The API should accept a review text and return the sentiment analysis result.\n",
    "\n",
    "Expected format:\n",
    "```python\n",
    "# Request\n",
    "{\n",
    "    \"review_text\": \"This movie exceeded my expectations...\"\n",
    "}\n",
    "\n",
    "# Response\n",
    "{\n",
    "    \"sentiment\": \"positive\",\n",
    "    \"confidence\": 0.92,\n",
    "    \"similar_reviews\": [\n",
    "        {},\n",
    "        {}\n",
    "    ]\n",
    "}\n",
    "```"
   ]
  },
  {
   "cell_type": "code",
   "execution_count": 6,
   "metadata": {},
   "outputs": [],
   "source": [
    "from fastapi import FastAPI\n",
    "from pydantic import BaseModel\n",
    "\n",
    "# Your API implementation here"
   ]
  },
  {
   "cell_type": "markdown",
   "metadata": {},
   "source": [
    "## Task 3: Testing and Performance\n",
    "Evaluate your solution's performance on the test set. Include:\n",
    "1. Accuracy metrics (precision, recall, F1-score)\n",
    "2. Inference speed (average time per prediction)\n",
    "\n",
    "Compare performance with and without using the example data to demonstrate any improvements."
   ]
  },
  {
   "cell_type": "code",
   "execution_count": 7,
   "metadata": {},
   "outputs": [
    {
     "ename": "ModuleNotFoundError",
     "evalue": "No module named 'sklearn'",
     "output_type": "error",
     "traceback": [
      "\u001b[31m---------------------------------------------------------------------------\u001b[39m",
      "\u001b[31mModuleNotFoundError\u001b[39m                       Traceback (most recent call last)",
      "\u001b[36mCell\u001b[39m\u001b[36m \u001b[39m\u001b[32mIn[7]\u001b[39m\u001b[32m, line 2\u001b[39m\n\u001b[32m      1\u001b[39m \u001b[38;5;28;01mimport\u001b[39;00m\u001b[38;5;250m \u001b[39m\u001b[34;01mtime\u001b[39;00m\n\u001b[32m----> \u001b[39m\u001b[32m2\u001b[39m \u001b[38;5;28;01mfrom\u001b[39;00m\u001b[38;5;250m \u001b[39m\u001b[34;01msklearn\u001b[39;00m\u001b[34;01m.\u001b[39;00m\u001b[34;01mmetrics\u001b[39;00m\u001b[38;5;250m \u001b[39m\u001b[38;5;28;01mimport\u001b[39;00m classification_report\n\u001b[32m      4\u001b[39m \u001b[38;5;66;03m# Your testing code here\u001b[39;00m\n",
      "\u001b[31mModuleNotFoundError\u001b[39m: No module named 'sklearn'"
     ]
    }
   ],
   "source": [
    "import time\n",
    "from sklearn.metrics import classification_report\n",
    "\n",
    "# Your testing code here"
   ]
  },
  {
   "cell_type": "markdown",
   "metadata": {},
   "source": [
    "## Task 4: Deployment Strategy\n",
    "\n",
    "1. Describe your deployment strategy considering:\n",
    "   - Data storage and retrieval\n",
    "   - Scalability\n",
    "   - Resource requirements\n",
    "   - Cost considerations\n",
    "\n",
    "2. Create a simple Dockerfile to package your solution"
   ]
  },
  {
   "cell_type": "code",
   "execution_count": null,
   "metadata": {},
   "outputs": [],
   "source": [
    "# Write your deployment strategy here as a markdown cell\n",
    "deployment_strategy = \"\"\"\n",
    "# Deployment Strategy\n",
    "\n",
    "## Infrastructure\n",
    "...\n",
    "\n",
    "## Scalability Approach\n",
    "...\n",
    "\n",
    "## Model & Data Storage\n",
    "...\n",
    "\n",
    "## Resource & Cost Considerations\n",
    "...\n",
    "\"\"\"\n",
    "\n",
    "print(deployment_strategy)\n",
    "\n",
    "# Write your Dockerfile content\n",
    "dockerfile_content = \"\"\"\n",
    "# Your Dockerfile here\n",
    "...\n",
    "\"\"\"\n",
    "\n",
    "print(\"\\nDockerfile:\")\n",
    "print(dockerfile_content)"
   ]
  },
  {
   "cell_type": "markdown",
   "metadata": {},
   "source": [
    "## Evaluation Criteria\n",
    "- Implementation that can process reviews and return sentiments\n",
    "- Use of extra data to improve predictions\n",
    "- Proper API design\n",
    "- Reasonable deployment strategy\n",
    "\n",
    "Good luck!"
   ]
  }
 ],
 "metadata": {
  "kernelspec": {
   "display_name": ".venv",
   "language": "python",
   "name": "python3"
  },
  "language_info": {
   "codemirror_mode": {
    "name": "ipython",
    "version": 3
   },
   "file_extension": ".py",
   "mimetype": "text/x-python",
   "name": "python",
   "nbconvert_exporter": "python",
   "pygments_lexer": "ipython3",
   "version": "3.12.1"
  }
 },
 "nbformat": 4,
 "nbformat_minor": 4
}
